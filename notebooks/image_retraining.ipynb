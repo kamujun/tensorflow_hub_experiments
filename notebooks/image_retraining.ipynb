{
 "cells": [
  {
   "cell_type": "markdown",
   "metadata": {
    "collapsed": true
   },
   "source": [
    "Image Retraining with TensorFlow hub\n"
   ]
  },
  {
   "cell_type": "markdown",
   "metadata": {},
   "source": [
    "Download the training images\n"
   ]
  },
  {
   "cell_type": "code",
   "execution_count": 5,
   "metadata": {},
   "outputs": [
    {
     "name": "stderr",
     "output_type": "stream",
     "text": [
      "  % Total    % Received % Xferd  Average Speed   Time    Time     Time  Current\n                                 Dload  Upload   Total   Spent    Left  Speed\n\r  0     0    0     0    0     0      0      0 --:--:-- --:--:-- --:--:--     0\r  3  218M    3 8532k    0     0  17.5M      0  0:00:12 --:--:--  0:00:12 17.5M\r 27  218M   27 59.0M    0     0  40.0M      0  0:00:05  0:00:01  0:00:04 40.0M\r 53  218M   53  116M    0     0  47.0M      0  0:00:04  0:00:02  0:00:02 47.0M\r 76  218M   76  167M    0     0  48.2M      0  0:00:04  0:00:03  0:00:01 48.2M\r 99  218M   99  217M    0     0  48.6M      0  0:00:04  0:00:04 --:--:-- 48.6M\r100  218M  100  218M    0     0  48.5M      0  0:00:04  0:00:04 --:--:-- 52.2M\n"
     ]
    }
   ],
   "source": [
    "%%bash\n",
    "curl http://download.tensorflow.org/example_images/flower_photos.tgz | tar xz -C ../data/raw/\n"
   ]
  },
  {
   "cell_type": "code",
   "execution_count": 8,
   "metadata": {},
   "outputs": [
    {
     "name": "stdout",
     "output_type": "stream",
     "text": [
      "LICENSE.txt\ndaisy\ndandelion\nroses\nsunflowers\ntulips\n"
     ]
    }
   ],
   "source": [
    "%%bash\n",
    "ls ../data/raw/flower_photos"
   ]
  },
  {
   "cell_type": "code",
   "execution_count": null,
   "metadata": {},
   "outputs": [],
   "source": []
  }
 ],
 "metadata": {
  "kernelspec": {
   "display_name": "Python 2",
   "language": "python",
   "name": "python2"
  },
  "language_info": {
   "codemirror_mode": {
    "name": "ipython",
    "version": 2
   },
   "file_extension": ".py",
   "mimetype": "text/x-python",
   "name": "python",
   "nbconvert_exporter": "python",
   "pygments_lexer": "ipython2",
   "version": "2.7.6"
  }
 },
 "nbformat": 4,
 "nbformat_minor": 0
}
